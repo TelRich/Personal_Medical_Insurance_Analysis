{
 "cells": [
  {
   "attachments": {},
   "cell_type": "markdown",
   "metadata": {},
   "source": [
    "# Personal Medical Insurance Analysis\n",
    "\n",
    "### Attribute Information\n",
    "age: age of primary beneficiary\n",
    "\n",
    "sex: insurance contractor gender, female, male\n",
    "\n",
    "bmi: Body mass index, providing an understanding of body, weights that are relatively high or low relative to height,\n",
    "objective index of body weight (kg / m ^ 2) using the ratio of height to weight, ideally 18.5 to 24.9\n",
    "\n",
    "children: Number of children covered by health insurance / Number of dependents\n",
    "\n",
    "smoker: Smoking\n",
    "\n",
    "region: the beneficiary's residential area in the US, northeast, southeast, southwest, northwest.\n",
    "\n",
    "charges: Individual medical costs billed by health insurance"
   ]
  },
  {
   "cell_type": "code",
   "execution_count": 2,
   "metadata": {},
   "outputs": [],
   "source": [
    "%load_ext sql\n",
    "%sql sqlite:///insurance.db"
   ]
  },
  {
   "attachments": {},
   "cell_type": "markdown",
   "metadata": {},
   "source": [
    "Questions\n",
    "1. How many female are smokers?\n",
    "2. How many male are smokers?\n",
    "3. Show the distribution of smokers and non smokers in each region \n",
    "4. Is there a region where its average charge is below the overall average charge?\n",
    "5. What can you say about people with children and those without children in terms of smoking\n",
    "6. Which region has the highest number of smokers?\n",
    "7. Which region has the lowest number of smokers?"
   ]
  },
  {
   "cell_type": "code",
   "execution_count": 3,
   "metadata": {},
   "outputs": [
    {
     "name": "stdout",
     "output_type": "stream",
     "text": [
      " * sqlite:///insurance.db\n",
      "Done.\n"
     ]
    },
    {
     "data": {
      "text/html": [
       "<table>\n",
       "    <tr>\n",
       "        <th>age</th>\n",
       "        <th>sex</th>\n",
       "        <th>bmi</th>\n",
       "        <th>children</th>\n",
       "        <th>smoker</th>\n",
       "        <th>region</th>\n",
       "        <th>charges</th>\n",
       "    </tr>\n",
       "    <tr>\n",
       "        <td>19</td>\n",
       "        <td>female</td>\n",
       "        <td>27.9</td>\n",
       "        <td>0</td>\n",
       "        <td>yes</td>\n",
       "        <td>southwest</td>\n",
       "        <td>16884.924</td>\n",
       "    </tr>\n",
       "    <tr>\n",
       "        <td>18</td>\n",
       "        <td>male</td>\n",
       "        <td>33.77</td>\n",
       "        <td>1</td>\n",
       "        <td>no</td>\n",
       "        <td>southeast</td>\n",
       "        <td>1725.5523</td>\n",
       "    </tr>\n",
       "    <tr>\n",
       "        <td>28</td>\n",
       "        <td>male</td>\n",
       "        <td>33</td>\n",
       "        <td>3</td>\n",
       "        <td>no</td>\n",
       "        <td>southeast</td>\n",
       "        <td>4449.462</td>\n",
       "    </tr>\n",
       "    <tr>\n",
       "        <td>33</td>\n",
       "        <td>male</td>\n",
       "        <td>22.705</td>\n",
       "        <td>0</td>\n",
       "        <td>no</td>\n",
       "        <td>northwest</td>\n",
       "        <td>21984.47061</td>\n",
       "    </tr>\n",
       "    <tr>\n",
       "        <td>32</td>\n",
       "        <td>male</td>\n",
       "        <td>28.88</td>\n",
       "        <td>0</td>\n",
       "        <td>no</td>\n",
       "        <td>northwest</td>\n",
       "        <td>3866.8552</td>\n",
       "    </tr>\n",
       "</table>"
      ],
      "text/plain": [
       "[(19, 'female', 27.9, 0, 'yes', 'southwest', 16884.924),\n",
       " (18, 'male', 33.77, 1, 'no', 'southeast', 1725.5523),\n",
       " (28, 'male', 33, 3, 'no', 'southeast', 4449.462),\n",
       " (33, 'male', 22.705, 0, 'no', 'northwest', 21984.47061),\n",
       " (32, 'male', 28.88, 0, 'no', 'northwest', 3866.8552)]"
      ]
     },
     "execution_count": 3,
     "metadata": {},
     "output_type": "execute_result"
    }
   ],
   "source": [
    "%sql SELECT * FROM insurance LIMIT 5"
   ]
  },
  {
   "cell_type": "code",
   "execution_count": 4,
   "metadata": {},
   "outputs": [
    {
     "name": "stdout",
     "output_type": "stream",
     "text": [
      " * sqlite:///insurance.db\n",
      "Done.\n"
     ]
    },
    {
     "data": {
      "text/html": [
       "<table>\n",
       "    <tr>\n",
       "        <th>COUNT(*)</th>\n",
       "    </tr>\n",
       "    <tr>\n",
       "        <td>115</td>\n",
       "    </tr>\n",
       "</table>"
      ],
      "text/plain": [
       "[(115,)]"
      ]
     },
     "execution_count": 4,
     "metadata": {},
     "output_type": "execute_result"
    }
   ],
   "source": [
    "%%sql \n",
    "SELECT  COUNT(*)\n",
    "FROM    insurance\n",
    "WHERE   sex = 'female' AND smoker = 'yes'  "
   ]
  },
  {
   "attachments": {},
   "cell_type": "markdown",
   "metadata": {},
   "source": [
    "Questions\n",
    "1. How many female are smokers?\n",
    "2. How many male are smokers?\n",
    "3. Show the distribution of smokers and non smokers in each region \n",
    "4. Is there a region where its average charge is below the overall average charge?\n",
    "5. What can you say about people with children and those without children in terms of smoking\n",
    "6. Which region has the highest number of smokers?\n",
    "7. Which region has the lowest number of smokers?"
   ]
  }
 ],
 "metadata": {
  "kernelspec": {
   "display_name": "base",
   "language": "python",
   "name": "python3"
  },
  "language_info": {
   "codemirror_mode": {
    "name": "ipython",
    "version": 3
   },
   "file_extension": ".py",
   "mimetype": "text/x-python",
   "name": "python",
   "nbconvert_exporter": "python",
   "pygments_lexer": "ipython3",
   "version": "3.9.12"
  },
  "orig_nbformat": 4,
  "vscode": {
   "interpreter": {
    "hash": "b68a3c467d07aa8b20c71071b0b7606f948be72d30c76b97a14d11803ebfb6c4"
   }
  }
 },
 "nbformat": 4,
 "nbformat_minor": 2
}
